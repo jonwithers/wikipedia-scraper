{
 "cells": [
  {
   "cell_type": "code",
   "execution_count": 1,
   "metadata": {},
   "outputs": [],
   "source": [
    "import pandas as pd\n",
    "import numpy as np\n",
    "from sklearn.feature_extraction.text import CountVectorizer, TfidfVectorizer\n",
    "from sklearn.linear_model import LogisticRegression\n",
    "from sklearn.model_selection import train_test_split"
   ]
  },
  {
   "cell_type": "code",
   "execution_count": 2,
   "metadata": {},
   "outputs": [],
   "source": [
    "df = pd.read_csv('../data/19-02-23.csv', index_col=0)"
   ]
  },
  {
   "cell_type": "code",
   "execution_count": 3,
   "metadata": {},
   "outputs": [
    {
     "data": {
      "text/plain": [
       "(1196, 2)"
      ]
     },
     "execution_count": 3,
     "metadata": {},
     "output_type": "execute_result"
    }
   ],
   "source": [
    "df.shape"
   ]
  },
  {
   "cell_type": "code",
   "execution_count": 4,
   "metadata": {},
   "outputs": [],
   "source": [
    "cvec = CountVectorizer(strip_accents='unicode')"
   ]
  },
  {
   "cell_type": "code",
   "execution_count": 10,
   "metadata": {},
   "outputs": [],
   "source": [
    "df = df.dropna()"
   ]
  },
  {
   "cell_type": "code",
   "execution_count": 11,
   "metadata": {},
   "outputs": [],
   "source": [
    "X_train_raw, X_test_raw, y_train, y_test = train_test_split(df['text'], df['lang'])"
   ]
  },
  {
   "cell_type": "code",
   "execution_count": 12,
   "metadata": {},
   "outputs": [],
   "source": [
    "X_train = cvec.fit_transform(X_train_raw)\n",
    "X_test = cvec.transform(X_test_raw)"
   ]
  },
  {
   "cell_type": "code",
   "execution_count": 13,
   "metadata": {},
   "outputs": [],
   "source": [
    "lr = LogisticRegression()"
   ]
  },
  {
   "cell_type": "code",
   "execution_count": 14,
   "metadata": {},
   "outputs": [
    {
     "data": {
      "text/plain": [
       "LogisticRegression(C=1.0, class_weight=None, dual=False, fit_intercept=True,\n",
       "          intercept_scaling=1, max_iter=100, multi_class='ovr', n_jobs=1,\n",
       "          penalty='l2', random_state=None, solver='liblinear', tol=0.0001,\n",
       "          verbose=0, warm_start=False)"
      ]
     },
     "execution_count": 14,
     "metadata": {},
     "output_type": "execute_result"
    }
   ],
   "source": [
    "lr.fit(X_train, y_train)"
   ]
  },
  {
   "cell_type": "code",
   "execution_count": 15,
   "metadata": {},
   "outputs": [
    {
     "data": {
      "text/plain": [
       "0.82758620689655171"
      ]
     },
     "execution_count": 15,
     "metadata": {},
     "output_type": "execute_result"
    }
   ],
   "source": [
    "lr.score(X_test, y_test)"
   ]
  },
  {
   "cell_type": "code",
   "execution_count": 18,
   "metadata": {},
   "outputs": [],
   "source": [
    "df2 = pd.DataFrame({'feature':cvec.get_feature_names(), 'coef':lr.coef_[0]})"
   ]
  },
  {
   "cell_type": "code",
   "execution_count": 19,
   "metadata": {},
   "outputs": [
    {
     "data": {
      "text/html": [
       "<div>\n",
       "<style scoped>\n",
       "    .dataframe tbody tr th:only-of-type {\n",
       "        vertical-align: middle;\n",
       "    }\n",
       "\n",
       "    .dataframe tbody tr th {\n",
       "        vertical-align: top;\n",
       "    }\n",
       "\n",
       "    .dataframe thead th {\n",
       "        text-align: right;\n",
       "    }\n",
       "</style>\n",
       "<table border=\"1\" class=\"dataframe\">\n",
       "  <thead>\n",
       "    <tr style=\"text-align: right;\">\n",
       "      <th></th>\n",
       "      <th>feature</th>\n",
       "      <th>coef</th>\n",
       "    </tr>\n",
       "  </thead>\n",
       "  <tbody>\n",
       "    <tr>\n",
       "      <th>1787</th>\n",
       "      <td>building</td>\n",
       "      <td>-1.197434</td>\n",
       "    </tr>\n",
       "    <tr>\n",
       "      <th>6640</th>\n",
       "      <td>over</td>\n",
       "      <td>-0.943134</td>\n",
       "    </tr>\n",
       "    <tr>\n",
       "      <th>5493</th>\n",
       "      <td>legislative</td>\n",
       "      <td>-0.915200</td>\n",
       "    </tr>\n",
       "    <tr>\n",
       "      <th>1073</th>\n",
       "      <td>an</td>\n",
       "      <td>-0.797812</td>\n",
       "    </tr>\n",
       "    <tr>\n",
       "      <th>6405</th>\n",
       "      <td>notes</td>\n",
       "      <td>-0.796856</td>\n",
       "    </tr>\n",
       "  </tbody>\n",
       "</table>\n",
       "</div>"
      ],
      "text/plain": [
       "          feature      coef\n",
       "1787     building -1.197434\n",
       "6640         over -0.943134\n",
       "5493  legislative -0.915200\n",
       "1073           an -0.797812\n",
       "6405        notes -0.796856"
      ]
     },
     "execution_count": 19,
     "metadata": {},
     "output_type": "execute_result"
    }
   ],
   "source": [
    "df2.sort_values('coef', ascending=True).head()"
   ]
  },
  {
   "cell_type": "code",
   "execution_count": null,
   "metadata": {},
   "outputs": [],
   "source": []
  },
  {
   "cell_type": "code",
   "execution_count": null,
   "metadata": {},
   "outputs": [],
   "source": []
  },
  {
   "cell_type": "code",
   "execution_count": null,
   "metadata": {},
   "outputs": [],
   "source": []
  },
  {
   "cell_type": "code",
   "execution_count": null,
   "metadata": {},
   "outputs": [],
   "source": []
  },
  {
   "cell_type": "code",
   "execution_count": null,
   "metadata": {},
   "outputs": [],
   "source": []
  },
  {
   "cell_type": "code",
   "execution_count": null,
   "metadata": {},
   "outputs": [],
   "source": []
  },
  {
   "cell_type": "code",
   "execution_count": null,
   "metadata": {},
   "outputs": [],
   "source": []
  },
  {
   "cell_type": "code",
   "execution_count": null,
   "metadata": {},
   "outputs": [],
   "source": []
  },
  {
   "cell_type": "code",
   "execution_count": null,
   "metadata": {},
   "outputs": [],
   "source": []
  },
  {
   "cell_type": "code",
   "execution_count": null,
   "metadata": {},
   "outputs": [],
   "source": []
  },
  {
   "cell_type": "code",
   "execution_count": null,
   "metadata": {},
   "outputs": [],
   "source": []
  },
  {
   "cell_type": "code",
   "execution_count": null,
   "metadata": {},
   "outputs": [],
   "source": []
  },
  {
   "cell_type": "code",
   "execution_count": null,
   "metadata": {},
   "outputs": [],
   "source": []
  },
  {
   "cell_type": "code",
   "execution_count": 29,
   "metadata": {},
   "outputs": [],
   "source": [
    "test = pd.DataFrame({\n",
    "    'text':X_test_raw,\n",
    "    'lang':y_test\n",
    "}).reset_index(drop=True)"
   ]
  },
  {
   "cell_type": "code",
   "execution_count": 72,
   "metadata": {},
   "outputs": [
    {
     "name": "stdout",
     "output_type": "stream",
     "text": [
      "In 2009, James Cameron's \"Avatar\" once again showed the appeal of sci-fi epics, with more than $700 million and more than $2.7 billion in box office across the US and worldwide, making it the most successful box office movie (no Consider the inflation factor). In recent years, many sci-fi epics have achieved varying degrees of success, including Peter Jackson's \"The Lord of the Rings\" movie trilogy, the Harry Potter series.\n"
     ]
    }
   ],
   "source": [
    "rando = np.random.randint(0, test.shape[0])\n",
    "print(test.loc[rando, 'text'])"
   ]
  },
  {
   "cell_type": "code",
   "execution_count": 73,
   "metadata": {},
   "outputs": [
    {
     "name": "stdout",
     "output_type": "stream",
     "text": [
      "Computer predicts:\n",
      "zh\n"
     ]
    }
   ],
   "source": [
    "print(\"Computer predicts:\")\n",
    "print(lr.predict(cvec.transform([test.loc[rando, 'text']]))[0])"
   ]
  },
  {
   "cell_type": "code",
   "execution_count": 74,
   "metadata": {},
   "outputs": [
    {
     "name": "stdout",
     "output_type": "stream",
     "text": [
      "Actually:\n",
      "zh\n"
     ]
    }
   ],
   "source": [
    "print(\"Actually:\")\n",
    "print(test.loc[rando, 'lang'])"
   ]
  },
  {
   "cell_type": "code",
   "execution_count": 76,
   "metadata": {},
   "outputs": [],
   "source": [
    "test['pred'] = lr.predict(cvec.transform(test['text']))"
   ]
  },
  {
   "cell_type": "code",
   "execution_count": 78,
   "metadata": {},
   "outputs": [
    {
     "data": {
      "text/html": [
       "<div>\n",
       "<style scoped>\n",
       "    .dataframe tbody tr th:only-of-type {\n",
       "        vertical-align: middle;\n",
       "    }\n",
       "\n",
       "    .dataframe tbody tr th {\n",
       "        vertical-align: top;\n",
       "    }\n",
       "\n",
       "    .dataframe thead th {\n",
       "        text-align: right;\n",
       "    }\n",
       "</style>\n",
       "<table border=\"1\" class=\"dataframe\">\n",
       "  <thead>\n",
       "    <tr style=\"text-align: right;\">\n",
       "      <th></th>\n",
       "      <th>text</th>\n",
       "      <th>lang</th>\n",
       "      <th>pred</th>\n",
       "    </tr>\n",
       "  </thead>\n",
       "  <tbody>\n",
       "    <tr>\n",
       "      <th>3</th>\n",
       "      <td>Most of the space opera stories revolve around...</td>\n",
       "      <td>zh</td>\n",
       "      <td>en</td>\n",
       "    </tr>\n",
       "    <tr>\n",
       "      <th>6</th>\n",
       "      <td>There are a number of municipal expressways an...</td>\n",
       "      <td>en</td>\n",
       "      <td>zh</td>\n",
       "    </tr>\n",
       "    <tr>\n",
       "      <th>10</th>\n",
       "      <td>The Canadian Space Agency operates a highly ac...</td>\n",
       "      <td>en</td>\n",
       "      <td>zh</td>\n",
       "    </tr>\n",
       "    <tr>\n",
       "      <th>18</th>\n",
       "      <td>During the American Revolutionary War, colonis...</td>\n",
       "      <td>zh</td>\n",
       "      <td>en</td>\n",
       "    </tr>\n",
       "    <tr>\n",
       "      <th>20</th>\n",
       "      <td>Around 1000 AD, Europeans set foot in Canada f...</td>\n",
       "      <td>zh</td>\n",
       "      <td>en</td>\n",
       "    </tr>\n",
       "    <tr>\n",
       "      <th>23</th>\n",
       "      <td>The Americas are usually accepted as having be...</td>\n",
       "      <td>en</td>\n",
       "      <td>zh</td>\n",
       "    </tr>\n",
       "    <tr>\n",
       "      <th>27</th>\n",
       "      <td>The plot focuses on the Rebel Alliance, led by...</td>\n",
       "      <td>zh</td>\n",
       "      <td>en</td>\n",
       "    </tr>\n",
       "    <tr>\n",
       "      <th>38</th>\n",
       "      <td>North America is a continent entirely within t...</td>\n",
       "      <td>en</td>\n",
       "      <td>zh</td>\n",
       "    </tr>\n",
       "    <tr>\n",
       "      <th>46</th>\n",
       "      <td>In cities, money, services, wealth and opportu...</td>\n",
       "      <td>en</td>\n",
       "      <td>zh</td>\n",
       "    </tr>\n",
       "    <tr>\n",
       "      <th>60</th>\n",
       "      <td>Star Wars proved to be the most successful fil...</td>\n",
       "      <td>zh</td>\n",
       "      <td>en</td>\n",
       "    </tr>\n",
       "    <tr>\n",
       "      <th>61</th>\n",
       "      <td>The Canadian music industry produces many worl...</td>\n",
       "      <td>zh</td>\n",
       "      <td>en</td>\n",
       "    </tr>\n",
       "    <tr>\n",
       "      <th>67</th>\n",
       "      <td>Toronto's international population [10] shows ...</td>\n",
       "      <td>zh</td>\n",
       "      <td>en</td>\n",
       "    </tr>\n",
       "    <tr>\n",
       "      <th>74</th>\n",
       "      <td>Romantic epics are also common, including wars...</td>\n",
       "      <td>zh</td>\n",
       "      <td>en</td>\n",
       "    </tr>\n",
       "    <tr>\n",
       "      <th>80</th>\n",
       "      <td>North America is the source of much of what hu...</td>\n",
       "      <td>en</td>\n",
       "      <td>zh</td>\n",
       "    </tr>\n",
       "    <tr>\n",
       "      <th>82</th>\n",
       "      <td>Geologically, Canada is one of the oldest regi...</td>\n",
       "      <td>en</td>\n",
       "      <td>zh</td>\n",
       "    </tr>\n",
       "    <tr>\n",
       "      <th>84</th>\n",
       "      <td>The industrial division ratio (on the island) ...</td>\n",
       "      <td>zh</td>\n",
       "      <td>en</td>\n",
       "    </tr>\n",
       "    <tr>\n",
       "      <th>86</th>\n",
       "      <td>Born in Modesto, California in 1944, his fathe...</td>\n",
       "      <td>zh</td>\n",
       "      <td>en</td>\n",
       "    </tr>\n",
       "    <tr>\n",
       "      <th>90</th>\n",
       "      <td>Cross-media production tends to move from the ...</td>\n",
       "      <td>zh</td>\n",
       "      <td>en</td>\n",
       "    </tr>\n",
       "    <tr>\n",
       "      <th>92</th>\n",
       "      <td>For those who own real estate by the two count...</td>\n",
       "      <td>zh</td>\n",
       "      <td>en</td>\n",
       "    </tr>\n",
       "    <tr>\n",
       "      <th>96</th>\n",
       "      <td>Originally a Christian township in Ireland and...</td>\n",
       "      <td>zh</td>\n",
       "      <td>en</td>\n",
       "    </tr>\n",
       "    <tr>\n",
       "      <th>104</th>\n",
       "      <td>Canada's approach to governance emphasizing mu...</td>\n",
       "      <td>en</td>\n",
       "      <td>zh</td>\n",
       "    </tr>\n",
       "    <tr>\n",
       "      <th>107</th>\n",
       "      <td>The southern North American continent is compo...</td>\n",
       "      <td>en</td>\n",
       "      <td>zh</td>\n",
       "    </tr>\n",
       "    <tr>\n",
       "      <th>108</th>\n",
       "      <td>In popular GIS software, data projected in lat...</td>\n",
       "      <td>en</td>\n",
       "      <td>zh</td>\n",
       "    </tr>\n",
       "    <tr>\n",
       "      <th>125</th>\n",
       "      <td>Montreal plays an important role in the financ...</td>\n",
       "      <td>en</td>\n",
       "      <td>zh</td>\n",
       "    </tr>\n",
       "    <tr>\n",
       "      <th>132</th>\n",
       "      <td>Coutts/Ross International Airport is located i...</td>\n",
       "      <td>en</td>\n",
       "      <td>zh</td>\n",
       "    </tr>\n",
       "    <tr>\n",
       "      <th>137</th>\n",
       "      <td>Lucas has said that he is a fan of Seth MacFar...</td>\n",
       "      <td>en</td>\n",
       "      <td>zh</td>\n",
       "    </tr>\n",
       "    <tr>\n",
       "      <th>138</th>\n",
       "      <td>Toronto also has a number of post-secondary in...</td>\n",
       "      <td>en</td>\n",
       "      <td>zh</td>\n",
       "    </tr>\n",
       "    <tr>\n",
       "      <th>145</th>\n",
       "      <td>The following additional symbols are all accom...</td>\n",
       "      <td>zh</td>\n",
       "      <td>en</td>\n",
       "    </tr>\n",
       "    <tr>\n",
       "      <th>148</th>\n",
       "      <td>In the DVD released in 2004, the film was furt...</td>\n",
       "      <td>zh</td>\n",
       "      <td>en</td>\n",
       "    </tr>\n",
       "    <tr>\n",
       "      <th>149</th>\n",
       "      <td>To celebrate the centennial of the city's cent...</td>\n",
       "      <td>zh</td>\n",
       "      <td>en</td>\n",
       "    </tr>\n",
       "    <tr>\n",
       "      <th>152</th>\n",
       "      <td>During the war of 1812, the US military won th...</td>\n",
       "      <td>zh</td>\n",
       "      <td>en</td>\n",
       "    </tr>\n",
       "    <tr>\n",
       "      <th>160</th>\n",
       "      <td>The American Film Institute awarded Lucas its ...</td>\n",
       "      <td>en</td>\n",
       "      <td>zh</td>\n",
       "    </tr>\n",
       "    <tr>\n",
       "      <th>166</th>\n",
       "      <td>\\n</td>\n",
       "      <td>en</td>\n",
       "      <td>zh</td>\n",
       "    </tr>\n",
       "    <tr>\n",
       "      <th>178</th>\n",
       "      <td>The pre-amalgamation City of Toronto covers th...</td>\n",
       "      <td>en</td>\n",
       "      <td>zh</td>\n",
       "    </tr>\n",
       "    <tr>\n",
       "      <th>205</th>\n",
       "      <td>In terms of maritime traffic, several ferry co...</td>\n",
       "      <td>zh</td>\n",
       "      <td>en</td>\n",
       "    </tr>\n",
       "    <tr>\n",
       "      <th>208</th>\n",
       "      <td>Public local transport is served by a network ...</td>\n",
       "      <td>en</td>\n",
       "      <td>zh</td>\n",
       "    </tr>\n",
       "    <tr>\n",
       "      <th>213</th>\n",
       "      <td>The title is imitated from the 1940s album \"Fl...</td>\n",
       "      <td>zh</td>\n",
       "      <td>en</td>\n",
       "    </tr>\n",
       "    <tr>\n",
       "      <th>217</th>\n",
       "      <td>In 1793, Governor John Graves Simco establishe...</td>\n",
       "      <td>zh</td>\n",
       "      <td>en</td>\n",
       "    </tr>\n",
       "    <tr>\n",
       "      <th>222</th>\n",
       "      <td>Marcia Lucas (1969-1983)</td>\n",
       "      <td>zh</td>\n",
       "      <td>en</td>\n",
       "    </tr>\n",
       "    <tr>\n",
       "      <th>223</th>\n",
       "      <td>Vancouver is adjacent to water and bridges pla...</td>\n",
       "      <td>zh</td>\n",
       "      <td>en</td>\n",
       "    </tr>\n",
       "    <tr>\n",
       "      <th>224</th>\n",
       "      <td>On October 3, 1994, Lucas began writing the tr...</td>\n",
       "      <td>zh</td>\n",
       "      <td>en</td>\n",
       "    </tr>\n",
       "    <tr>\n",
       "      <th>237</th>\n",
       "      <td>Canadian festivals are divided into national f...</td>\n",
       "      <td>zh</td>\n",
       "      <td>en</td>\n",
       "    </tr>\n",
       "    <tr>\n",
       "      <th>241</th>\n",
       "      <td>Canada and the United States have the longest ...</td>\n",
       "      <td>zh</td>\n",
       "      <td>en</td>\n",
       "    </tr>\n",
       "    <tr>\n",
       "      <th>243</th>\n",
       "      <td>The Mississippi River is the largest river in ...</td>\n",
       "      <td>zh</td>\n",
       "      <td>en</td>\n",
       "    </tr>\n",
       "    <tr>\n",
       "      <th>252</th>\n",
       "      <td>It was established on September 26, 1826 under...</td>\n",
       "      <td>zh</td>\n",
       "      <td>en</td>\n",
       "    </tr>\n",
       "    <tr>\n",
       "      <th>254</th>\n",
       "      <td>Montreal has a storied baseball history. The c...</td>\n",
       "      <td>en</td>\n",
       "      <td>zh</td>\n",
       "    </tr>\n",
       "    <tr>\n",
       "      <th>264</th>\n",
       "      <td>At the time of the 2001 demographics, 390,000 ...</td>\n",
       "      <td>zh</td>\n",
       "      <td>en</td>\n",
       "    </tr>\n",
       "    <tr>\n",
       "      <th>265</th>\n",
       "      <td>During the battle, Rebel Spies managed to stea...</td>\n",
       "      <td>zh</td>\n",
       "      <td>en</td>\n",
       "    </tr>\n",
       "    <tr>\n",
       "      <th>278</th>\n",
       "      <td>\"Star Wars\" was honored by some as the first \"...</td>\n",
       "      <td>zh</td>\n",
       "      <td>en</td>\n",
       "    </tr>\n",
       "    <tr>\n",
       "      <th>281</th>\n",
       "      <td>According to the Archaeological Study of the A...</td>\n",
       "      <td>zh</td>\n",
       "      <td>en</td>\n",
       "    </tr>\n",
       "  </tbody>\n",
       "</table>\n",
       "</div>"
      ],
      "text/plain": [
       "                                                  text lang pred\n",
       "3    Most of the space opera stories revolve around...   zh   en\n",
       "6    There are a number of municipal expressways an...   en   zh\n",
       "10   The Canadian Space Agency operates a highly ac...   en   zh\n",
       "18   During the American Revolutionary War, colonis...   zh   en\n",
       "20   Around 1000 AD, Europeans set foot in Canada f...   zh   en\n",
       "23   The Americas are usually accepted as having be...   en   zh\n",
       "27   The plot focuses on the Rebel Alliance, led by...   zh   en\n",
       "38   North America is a continent entirely within t...   en   zh\n",
       "46   In cities, money, services, wealth and opportu...   en   zh\n",
       "60   Star Wars proved to be the most successful fil...   zh   en\n",
       "61   The Canadian music industry produces many worl...   zh   en\n",
       "67   Toronto's international population [10] shows ...   zh   en\n",
       "74   Romantic epics are also common, including wars...   zh   en\n",
       "80   North America is the source of much of what hu...   en   zh\n",
       "82   Geologically, Canada is one of the oldest regi...   en   zh\n",
       "84   The industrial division ratio (on the island) ...   zh   en\n",
       "86   Born in Modesto, California in 1944, his fathe...   zh   en\n",
       "90   Cross-media production tends to move from the ...   zh   en\n",
       "92   For those who own real estate by the two count...   zh   en\n",
       "96   Originally a Christian township in Ireland and...   zh   en\n",
       "104  Canada's approach to governance emphasizing mu...   en   zh\n",
       "107  The southern North American continent is compo...   en   zh\n",
       "108  In popular GIS software, data projected in lat...   en   zh\n",
       "125  Montreal plays an important role in the financ...   en   zh\n",
       "132  Coutts/Ross International Airport is located i...   en   zh\n",
       "137  Lucas has said that he is a fan of Seth MacFar...   en   zh\n",
       "138  Toronto also has a number of post-secondary in...   en   zh\n",
       "145  The following additional symbols are all accom...   zh   en\n",
       "148  In the DVD released in 2004, the film was furt...   zh   en\n",
       "149  To celebrate the centennial of the city's cent...   zh   en\n",
       "152  During the war of 1812, the US military won th...   zh   en\n",
       "160  The American Film Institute awarded Lucas its ...   en   zh\n",
       "166                                                 \\n   en   zh\n",
       "178  The pre-amalgamation City of Toronto covers th...   en   zh\n",
       "205  In terms of maritime traffic, several ferry co...   zh   en\n",
       "208  Public local transport is served by a network ...   en   zh\n",
       "213  The title is imitated from the 1940s album \"Fl...   zh   en\n",
       "217  In 1793, Governor John Graves Simco establishe...   zh   en\n",
       "222                           Marcia Lucas (1969-1983)   zh   en\n",
       "223  Vancouver is adjacent to water and bridges pla...   zh   en\n",
       "224  On October 3, 1994, Lucas began writing the tr...   zh   en\n",
       "237  Canadian festivals are divided into national f...   zh   en\n",
       "241  Canada and the United States have the longest ...   zh   en\n",
       "243  The Mississippi River is the largest river in ...   zh   en\n",
       "252  It was established on September 26, 1826 under...   zh   en\n",
       "254  Montreal has a storied baseball history. The c...   en   zh\n",
       "264  At the time of the 2001 demographics, 390,000 ...   zh   en\n",
       "265  During the battle, Rebel Spies managed to stea...   zh   en\n",
       "278  \"Star Wars\" was honored by some as the first \"...   zh   en\n",
       "281  According to the Archaeological Study of the A...   zh   en"
      ]
     },
     "execution_count": 78,
     "metadata": {},
     "output_type": "execute_result"
    }
   ],
   "source": [
    "test[test['lang']!=test['pred']]"
   ]
  },
  {
   "cell_type": "code",
   "execution_count": null,
   "metadata": {},
   "outputs": [],
   "source": []
  }
 ],
 "metadata": {
  "kernelspec": {
   "display_name": "Python [conda env:anaconda3]",
   "language": "python",
   "name": "conda-env-anaconda3-py"
  },
  "language_info": {
   "codemirror_mode": {
    "name": "ipython",
    "version": 3
   },
   "file_extension": ".py",
   "mimetype": "text/x-python",
   "name": "python",
   "nbconvert_exporter": "python",
   "pygments_lexer": "ipython3",
   "version": "3.6.4"
  }
 },
 "nbformat": 4,
 "nbformat_minor": 2
}
